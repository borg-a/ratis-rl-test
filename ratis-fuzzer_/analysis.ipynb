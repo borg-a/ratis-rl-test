{
 "cells": [
  {
   "cell_type": "code",
   "execution_count": 4,
   "metadata": {},
   "outputs": [],
   "source": [
    "import os\n",
    "import pickle as pkl"
   ]
  },
  {
   "cell_type": "code",
   "execution_count": 5,
   "metadata": {},
   "outputs": [
    {
     "name": "stdout",
     "output_type": "stream",
     "text": [
      "54.07426714897156\n",
      "62.35858392715454\n",
      "69.09781694412231\n",
      "52.742114782333374\n",
      "83.68699407577515\n"
     ]
    }
   ],
   "source": [
    "root = 'output/saved'\n",
    "runs = ['state', 'state2', 'state3', 'state4', 'state5']\n",
    "stats = {}\n",
    "for run in runs:\n",
    "    with open(os.path.join(root, f'{run}_stats.pkl'), 'rb') as f:\n",
    "        stats[run] = pkl.load(f)\n",
    "\n",
    "for run in runs:\n",
    "    print(stats[run]['runtime'])"
   ]
  }
 ],
 "metadata": {
  "kernelspec": {
   "display_name": "Python 3",
   "language": "python",
   "name": "python3"
  },
  "language_info": {
   "codemirror_mode": {
    "name": "ipython",
    "version": 3
   },
   "file_extension": ".py",
   "mimetype": "text/x-python",
   "name": "python",
   "nbconvert_exporter": "python",
   "pygments_lexer": "ipython3",
   "version": "3.9.6"
  }
 },
 "nbformat": 4,
 "nbformat_minor": 2
}
