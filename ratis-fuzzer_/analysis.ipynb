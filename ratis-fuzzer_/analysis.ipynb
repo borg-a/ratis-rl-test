{
 "cells": [
  {
   "cell_type": "code",
   "execution_count": 30,
   "metadata": {},
   "outputs": [],
   "source": [
    "import re\n",
    "import os\n",
    "import pickle as pkl\n",
    "\n",
    "slice_ = 4000"
   ]
  },
  {
   "cell_type": "code",
   "execution_count": 31,
   "metadata": {},
   "outputs": [
    {
     "name": "stdout",
     "output_type": "stream",
     "text": [
      "random run: 9\n",
      "Length: 6081\n",
      "Coverage: 4023\n",
      "Len bug_iters: 60\n",
      "Bug_iters:\n",
      "[64, 128, 192, 216, 221, 460, 585, 1074, 1235, 1394, 1612, 1720, 1927, 2004, 2052, 2119, 2191, 2272, 2277, 2288, 2304, 2481, 2497, 2613, 2720, 2759, 2769, 2889, 2893, 2906, 2923, 3045, 3181, 3202, 3243, 3540, 3613, 3802, 3837, 3841, 3842, 3861, 3906, 3992, 4241, 4611, 4650, 4816, 4936, 4979, 5079, 5168, 5181, 5591, 5616, 5634, 5681, 5726, 5779, 5959]\n",
      "-------------------------\n",
      "state run: 9\n",
      "Length: 6341\n",
      "Coverage: 4275\n",
      "Len bug_iters: 49\n",
      "Bug_iters:\n",
      "[10, 58, 61, 189, 238, 353, 362, 604, 1014, 1090, 1112, 1201, 1243, 1307, 1323, 1512, 1734, 1748, 2011, 2071, 2442, 2844, 3019, 3112, 3243, 3248, 3577, 3661, 3826, 3986, 3987, 4109, 4228, 4338, 4549, 4628, 4661, 4903, 4913, 4920, 4983, 5046, 5147, 5201, 5300, 5549, 5874, 5960, 6123]\n",
      "-------------------------\n",
      "trace run: 9\n",
      "Length: 6931\n",
      "Coverage: 3643\n",
      "Len bug_iters: 36\n",
      "Bug_iters:\n",
      "[202, 503, 515, 586, 602, 653, 660, 683, 852, 1060, 1245, 1255, 1450, 2174, 2592, 2699, 2834, 3245, 3825, 4006, 4127, 4236, 4314, 4483, 4497, 4866, 5304, 5418, 5505, 5555, 5903, 5954, 6164, 6604, 6672, 6676]\n",
      "-------------------------\n",
      "random run: 10\n",
      "Length: 5971\n",
      "Coverage: 4452\n",
      "Len bug_iters: 63\n",
      "Bug_iters:\n",
      "[147, 259, 316, 394, 415, 451, 811, 873, 957, 1015, 1064, 1154, 1248, 1418, 1513, 1624, 1712, 1735, 1847, 1853, 2089, 2120, 2131, 2254, 2262, 2318, 2616, 2665, 2731, 2835, 2837, 2890, 2987, 3097, 3131, 3183, 3323, 3636, 3642, 3738, 3781, 3854, 3858, 3866, 4214, 4241, 4431, 4437, 4589, 4625, 4709, 4714, 4873, 5281, 5288, 5294, 5363, 5398, 5401, 5403, 5492, 5719, 5723]\n",
      "-------------------------\n",
      "state run: 10\n",
      "Length: 6231\n",
      "Coverage: 4140\n",
      "Len bug_iters: 47\n",
      "Bug_iters:\n",
      "[89, 191, 340, 554, 1175, 1200, 1247, 1399, 1722, 1816, 1942, 2079, 2480, 2569, 2591, 2708, 2899, 2952, 2994, 3105, 3119, 3133, 3277, 3342, 3365, 3366, 3599, 3678, 3777, 3783, 3791, 4008, 4819, 5115, 5295, 5312, 5431, 5596, 5742, 5803, 5807, 5833, 5835, 6003, 6007, 6178, 6203]\n",
      "-------------------------\n",
      "trace run: 10\n",
      "Length: 6891\n",
      "Coverage: 3661\n",
      "Len bug_iters: 33\n",
      "Bug_iters:\n",
      "[18, 26, 274, 297, 412, 479, 822, 835, 944, 1031, 1313, 1558, 1962, 2018, 2402, 2413, 2673, 2754, 2827, 3302, 3416, 3479, 3533, 4056, 4310, 5068, 5261, 5605, 5622, 5895, 6232, 6642, 6695]\n",
      "-------------------------\n",
      "random run: 11\n",
      "Length: 6041\n",
      "Coverage: 4228\n",
      "Len bug_iters: 58\n",
      "Bug_iters:\n",
      "[42, 594, 722, 793, 871, 909, 1222, 1258, 1462, 1573, 1620, 1633, 1834, 1889, 2045, 2166, 2175, 2391, 2464, 2598, 2642, 2786, 2842, 2843, 2945, 2950, 3287, 3439, 3447, 3499, 3566, 3599, 3619, 3649, 3666, 3717, 3761, 3932, 3953, 4037, 4138, 4185, 4210, 4384, 4456, 4524, 4747, 4819, 4852, 4894, 5023, 5031, 5214, 5326, 5460, 5494, 5631, 5681]\n",
      "-------------------------\n",
      "state run: 11\n",
      "Length: 6301\n",
      "Coverage: 4421\n",
      "Len bug_iters: 58\n",
      "Bug_iters:\n",
      "[212, 289, 370, 806, 847, 990, 1002, 1024, 1106, 1189, 1305, 1315, 1511, 1652, 1659, 1790, 1794, 1818, 1868, 1904, 1983, 1988, 2121, 2143, 2160, 2311, 2461, 2469, 2724, 2776, 2828, 2947, 2960, 2980, 3502, 3543, 3554, 3721, 3759, 3882, 4164, 4276, 4442, 4498, 4500, 4924, 5242, 5402, 5422, 5434, 5438, 5441, 5494, 5603, 5614, 5773, 5836, 6016]\n",
      "-------------------------\n",
      "trace run: 11\n",
      "Length: 6821\n",
      "Coverage: 3659\n",
      "Len bug_iters: 42\n",
      "Bug_iters:\n",
      "[231, 401, 1111, 1193, 1343, 1602, 1826, 1862, 1905, 1919, 2138, 2293, 2400, 2991, 3247, 3427, 3446, 3540, 3701, 3737, 3824, 3935, 4102, 4116, 4140, 4217, 4275, 4294, 4328, 4442, 4455, 4678, 4842, 5064, 5280, 5286, 5499, 5526, 5658, 5695, 6107, 6115]\n",
      "-------------------------\n"
     ]
    }
   ],
   "source": [
    "runs = [9, 10, 11]\n",
    "methods = ['random', 'state', 'trace']\n",
    "bug_types = ['Large LogIndex: %d']\n",
    "slice_ = 5900\n",
    "for run in runs:\n",
    "    for method in methods:\n",
    "        print(f'{method} run: {run}')\n",
    "        basedir = f'experiments_berkay/raft_3_3/{method}/output{run}/'\n",
    "        with open(os.path.join(basedir, f'saved/{method}_stats.pkl'), 'rb') as f:\n",
    "            stats = pkl.load(f)\n",
    "        print(f'Length: {len(stats[\"coverage\"])}')\n",
    "        print(f'Coverage: {stats[\"coverage\"][:slice_][-1]}')\n",
    "        print(f'Len bug_iters: {len(stats[\"bug_iterations\"])}')\n",
    "        print(f'Bug_iters:')\n",
    "        print(stats[\"bug_iterations\"])\n",
    "        print('-------------------------')\n"
   ]
  },
  {
   "cell_type": "code",
   "execution_count": 34,
   "metadata": {},
   "outputs": [
    {
     "name": "stdout",
     "output_type": "stream",
     "text": [
      "{'random': [(9, 5634, 4), (9, 64, 5), (9, 5959, 4), (9, 2052, 4), (10, 1712, 4), (10, 3854, 5), (10, 2890, 4), (10, 2837, 4), (10, 1248, 4), (11, 1573, 4)], 'state': [(9, 4628, 4), (9, 5874, 4), (10, 3366, 4), (10, 2994, 4), (11, 2980, 4), (11, 3882, 5), (11, 1106, 4), (11, 806, 4)], 'trace': [(9, 5505, 4), (9, 852, 4), (10, 274, 4), (10, 6695, 4), (10, 4310, 4), (11, 4842, 4), (11, 4217, 4), (11, 1905, 4), (11, 1919, 5)]}\n",
      "{'random': [('random', 9, 3613), ('random', 10, 5294), ('random', 10, 5363), ('random', 10, 394), ('random', 11, 2786), ('random', 11, 3447), ('random', 11, 3499), ('random', 11, 3439)], 'state': [('state', 9, 6343), ('state', 9, 3987), ('state', 9, 3826), ('state', 10, 340), ('state', 10, 3105), ('state', 10, 2708), ('state', 11, 1024), ('state', 11, 1659), ('state', 11, 5402), ('state', 11, 3502)], 'trace': [('trace', 9, 1060), ('trace', 10, 2018), ('trace', 10, 3479), ('trace', 11, 3737)]}\n"
     ]
    }
   ],
   "source": [
    "all_bugs = {}\n",
    "unexpected_bugs = {}\n",
    "#r'\\b\\d+\\b'\n",
    "slice_ = 4000\n",
    "for run in runs:\n",
    "    for method in methods:\n",
    "        bugs = []\n",
    "        if method not in all_bugs.keys():\n",
    "            all_bugs[method] = []\n",
    "        if method not in unexpected_bugs.keys():\n",
    "            unexpected_bugs[method] = []\n",
    "        # print(f'{method} run: {run}')\n",
    "        basedir = f'experiments_berkay/raft_3_3/{method}/output{run}/errors/'\n",
    "        for file in os.listdir(basedir):\n",
    "            iter = [int(n) for n in re.findall(r'\\d+', file)][0]\n",
    "            with open(f'{basedir}{file}/stderr.log', 'r') as f:\n",
    "                lines = f.readlines()\n",
    "            if 'Large LogIndex:' in lines[0]:\n",
    "                li = [int(n) for n in re.findall(r'\\b\\d+\\b', lines[0])]\n",
    "                if li[0] < 4:\n",
    "                    continue\n",
    "                all_bugs[method].append((run, iter, li[0]))\n",
    "            elif 'Negative LogIndex!' in lines[0]:\n",
    "                all_bugs[method].append((run, iter, -1))\n",
    "            else:\n",
    "                unexpected_bugs[method].append((method, run, iter))\n",
    "print(all_bugs)\n",
    "print(unexpected_bugs)\n",
    "\n"
   ]
  }
 ],
 "metadata": {
  "kernelspec": {
   "display_name": "Python 3",
   "language": "python",
   "name": "python3"
  },
  "language_info": {
   "codemirror_mode": {
    "name": "ipython",
    "version": 3
   },
   "file_extension": ".py",
   "mimetype": "text/x-python",
   "name": "python",
   "nbconvert_exporter": "python",
   "pygments_lexer": "ipython3",
   "version": "3.9.6"
  }
 },
 "nbformat": 4,
 "nbformat_minor": 2
}
