{
 "cells": [
  {
   "cell_type": "code",
   "execution_count": 22,
   "metadata": {},
   "outputs": [],
   "source": [
    "import os\n",
    "import pickle as pkl\n",
    "\n",
    "slice_ = 7000"
   ]
  },
  {
   "cell_type": "code",
   "execution_count": 23,
   "metadata": {},
   "outputs": [
    {
     "name": "stdout",
     "output_type": "stream",
     "text": [
      "1074\n",
      "1101\n",
      "834\n"
     ]
    }
   ],
   "source": [
    "with open('experiments_berkay/raft_3_3/random/output1/saved/random_stats.pkl', 'rb') as f:\n",
    "    stats = pkl.load(f)\n",
    "print(stats['coverage'][:slice_][-1])\n",
    "\n",
    "with open('experiments_berkay/raft_3_3/state/output1/saved/state_stats.pkl', 'rb') as f:\n",
    "    stats = pkl.load(f)\n",
    "print(stats['coverage'][:slice_][-1])\n",
    "\n",
    "with open('experiments_berkay/raft_3_3/trace/output1/saved/trace_stats.pkl', 'rb') as f:\n",
    "    stats = pkl.load(f)\n",
    "print(stats['coverage'][:slice_][-1])"
   ]
  },
  {
   "cell_type": "code",
   "execution_count": 24,
   "metadata": {},
   "outputs": [
    {
     "name": "stdout",
     "output_type": "stream",
     "text": [
      "1979\n",
      "1803\n",
      "875\n"
     ]
    }
   ],
   "source": [
    "with open('experiments_berkay/raft_3_3/random/output2/saved/random_stats.pkl', 'rb') as f:\n",
    "    stats = pkl.load(f)\n",
    "print(stats['coverage'][:slice_][-1])\n",
    "\n",
    "with open('experiments_berkay/raft_3_3/state/output2/saved/state_stats.pkl', 'rb') as f:\n",
    "    stats = pkl.load(f)\n",
    "print(stats['coverage'][:slice_][-1])\n",
    "\n",
    "with open('experiments_berkay/raft_3_3/trace/output2/saved/trace_stats.pkl', 'rb') as f:\n",
    "    stats = pkl.load(f)\n",
    "print(stats['coverage'][:slice_][-1])"
   ]
  },
  {
   "cell_type": "code",
   "execution_count": 25,
   "metadata": {},
   "outputs": [
    {
     "name": "stdout",
     "output_type": "stream",
     "text": [
      "2262\n",
      "2008\n",
      "1159\n"
     ]
    }
   ],
   "source": [
    "with open('experiments_berkay/raft_3_3/random/output3/saved/random_stats.pkl', 'rb') as f:\n",
    "    stats = pkl.load(f)\n",
    "print(stats['coverage'][:9000][-1])\n",
    "\n",
    "with open('experiments_berkay/raft_3_3/state/output3/saved/state_stats.pkl', 'rb') as f:\n",
    "    stats = pkl.load(f)\n",
    "print(stats['coverage'][:9000][-1])\n",
    "\n",
    "with open('experiments_berkay/raft_3_3/trace/output3/saved/trace_stats.pkl', 'rb') as f:\n",
    "    stats = pkl.load(f)\n",
    "print(stats['coverage'][:9000][-1])"
   ]
  }
 ],
 "metadata": {
  "kernelspec": {
   "display_name": "Python 3",
   "language": "python",
   "name": "python3"
  },
  "language_info": {
   "codemirror_mode": {
    "name": "ipython",
    "version": 3
   },
   "file_extension": ".py",
   "mimetype": "text/x-python",
   "name": "python",
   "nbconvert_exporter": "python",
   "pygments_lexer": "ipython3",
   "version": "3.9.6"
  }
 },
 "nbformat": 4,
 "nbformat_minor": 2
}
